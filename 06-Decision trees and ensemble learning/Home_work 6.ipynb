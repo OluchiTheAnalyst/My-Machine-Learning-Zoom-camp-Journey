{
 "cells": [
  {
   "cell_type": "code",
   "execution_count": 2,
   "id": "35999f1d",
   "metadata": {},
   "outputs": [],
   "source": [
    "import pandas as pd\n",
    "import numpy as np\n",
    "from sklearn.model_selection import train_test_split\n",
    "from sklearn.feature_extraction import DictVectorizer\n",
    "from sklearn.tree import DecisionTreeRegressor\n",
    "from sklearn.metrics import mean_squared_error\n",
    "import matplotlib.pyplot as plt\n",
    "from sklearn.ensemble import RandomForestRegressor"
   ]
  },
  {
   "cell_type": "code",
   "execution_count": 3,
   "id": "cdd1fe79",
   "metadata": {},
   "outputs": [],
   "source": [
    "df = pd.read_csv('https://raw.githubusercontent.com/alexeygrigorev/datasets/master/car_fuel_efficiency.csv')"
   ]
  },
  {
   "cell_type": "code",
   "execution_count": 4,
   "id": "60136637",
   "metadata": {},
   "outputs": [
    {
     "data": {
      "text/plain": [
       "engine_displacement      0\n",
       "num_cylinders          482\n",
       "horsepower             708\n",
       "vehicle_weight           0\n",
       "acceleration           930\n",
       "model_year               0\n",
       "origin                   0\n",
       "fuel_type                0\n",
       "drivetrain               0\n",
       "num_doors              502\n",
       "fuel_efficiency_mpg      0\n",
       "dtype: int64"
      ]
     },
     "execution_count": 4,
     "metadata": {},
     "output_type": "execute_result"
    }
   ],
   "source": [
    "df.isnull().sum()"
   ]
  },
  {
   "cell_type": "markdown",
   "id": "035169d4",
   "metadata": {},
   "source": [
    "#### Fill in the missing values"
   ]
  },
  {
   "cell_type": "code",
   "execution_count": 5,
   "id": "2d937bf1",
   "metadata": {},
   "outputs": [],
   "source": [
    "df = df.fillna(0)"
   ]
  },
  {
   "cell_type": "code",
   "execution_count": 6,
   "id": "ccc1de77",
   "metadata": {},
   "outputs": [
    {
     "data": {
      "text/plain": [
       "engine_displacement    0\n",
       "num_cylinders          0\n",
       "horsepower             0\n",
       "vehicle_weight         0\n",
       "acceleration           0\n",
       "model_year             0\n",
       "origin                 0\n",
       "fuel_type              0\n",
       "drivetrain             0\n",
       "num_doors              0\n",
       "fuel_efficiency_mpg    0\n",
       "dtype: int64"
      ]
     },
     "execution_count": 6,
     "metadata": {},
     "output_type": "execute_result"
    }
   ],
   "source": [
    "df.isnull().sum()"
   ]
  },
  {
   "cell_type": "markdown",
   "id": "1b5d3ab8",
   "metadata": {},
   "source": [
    "#### Train/Test/Split"
   ]
  },
  {
   "cell_type": "code",
   "execution_count": 7,
   "id": "946a2cc9",
   "metadata": {},
   "outputs": [],
   "source": [
    "df_full_train, df_test = train_test_split(df,test_size=0.2, random_state=1)\n",
    "df_train, df_val =train_test_split(df_full_train, test_size=0.25, random_state=1)\n",
    "len(df_train), len(df_val), len(df_test)\n",
    "\n",
    "df_train =df_train.reset_index(drop=True)\n",
    "df_val =df_val.reset_index(drop=True)\n",
    "df_test = df_test.reset_index(drop=True)\n",
    "\n",
    "y_train = df_train.fuel_efficiency_mpg.values\n",
    "y_val = df_val.fuel_efficiency_mpg.values\n",
    "y_test = df_test.fuel_efficiency_mpg.values\n",
    "\n",
    "del df_train['fuel_efficiency_mpg']\n",
    "del df_val['fuel_efficiency_mpg']\n",
    "del df_test['fuel_efficiency_mpg']"
   ]
  },
  {
   "cell_type": "markdown",
   "id": "64350288",
   "metadata": {},
   "source": [
    "#### Use DictVectorizer(sparse=True) to turn the dataframes into matrices."
   ]
  },
  {
   "cell_type": "code",
   "execution_count": 8,
   "id": "01a9e652",
   "metadata": {},
   "outputs": [],
   "source": [
    "dv = DictVectorizer(sparse=True)\n",
    "\n",
    "train_dicts = df_train.to_dict(orient='records')\n",
    "val_dicts = df_val.to_dict(orient='records')\n",
    "\n",
    "X_train = dv.fit_transform(train_dicts)\n",
    "X_val = dv.transform(val_dicts)"
   ]
  },
  {
   "cell_type": "markdown",
   "id": "4ff7d8de",
   "metadata": {},
   "source": [
    "##### Question 1 . Let's train a decision tree regressor to predict the fuel_efficiency_mpg variable.\n",
    "\n",
    "###### Train a model with max_depth=1."
   ]
  },
  {
   "cell_type": "code",
   "execution_count": 9,
   "id": "4739a618",
   "metadata": {},
   "outputs": [
    {
     "data": {
      "text/html": [
       "<div>\n",
       "<style scoped>\n",
       "    .dataframe tbody tr th:only-of-type {\n",
       "        vertical-align: middle;\n",
       "    }\n",
       "\n",
       "    .dataframe tbody tr th {\n",
       "        vertical-align: top;\n",
       "    }\n",
       "\n",
       "    .dataframe thead th {\n",
       "        text-align: right;\n",
       "    }\n",
       "</style>\n",
       "<table border=\"1\" class=\"dataframe\">\n",
       "  <thead>\n",
       "    <tr style=\"text-align: right;\">\n",
       "      <th></th>\n",
       "      <th>feature</th>\n",
       "      <th>importance</th>\n",
       "    </tr>\n",
       "  </thead>\n",
       "  <tbody>\n",
       "    <tr>\n",
       "      <th>13</th>\n",
       "      <td>vehicle_weight</td>\n",
       "      <td>1.0</td>\n",
       "    </tr>\n",
       "  </tbody>\n",
       "</table>\n",
       "</div>"
      ],
      "text/plain": [
       "           feature  importance\n",
       "13  vehicle_weight         1.0"
      ]
     },
     "execution_count": 9,
     "metadata": {},
     "output_type": "execute_result"
    }
   ],
   "source": [
    "### Train a simple Decision Tree Regressor with max_depth = 1 and see which feature it splits on first.\n",
    "####That “first split” tells you which feature is most important for predicting fuel efficiency.\n",
    "\n",
    "# Train the simplest tree\n",
    "dt = DecisionTreeRegressor(max_depth=1, random_state=1)\n",
    "dt.fit(X_train, y_train)\n",
    "\n",
    "feature_names = dv.get_feature_names_out()\n",
    "importance = dt.feature_importances_\n",
    "\n",
    "df_importance = pd.DataFrame({\n",
    "    'feature': feature_names,\n",
    "    'importance': importance\n",
    "}).sort_values(by='importance', ascending=False)\n",
    "\n",
    "df_importance.head(1)\n"
   ]
  },
  {
   "cell_type": "markdown",
   "id": "2168581b",
   "metadata": {},
   "source": [
    "#### Train a random forest regressor with these parameters:\n",
    "\n",
    "##### n_estimators=10\n",
    "##### random_state=1\n",
    "##### n_jobs=-1 (optional - to make training faster)"
   ]
  },
  {
   "cell_type": "code",
   "execution_count": 10,
   "id": "74760975",
   "metadata": {},
   "outputs": [
    {
     "name": "stdout",
     "output_type": "stream",
     "text": [
      "0.4595777223092726\n"
     ]
    }
   ],
   "source": [
    "# What's the RMSE of this model on the validation data?\n",
    "\n",
    "rf = RandomForestRegressor(\n",
    "    n_estimators=10,\n",
    "    random_state=1,\n",
    "    n_jobs=-1\n",
    ")\n",
    "\n",
    "rf.fit(X_train, y_train)\n",
    "\n",
    "y_pred = rf.predict(X_val)\n",
    "rmse = np.sqrt(mean_squared_error(y_val, y_pred))\n",
    "print(rmse)"
   ]
  },
  {
   "cell_type": "markdown",
   "id": "42c6ffce",
   "metadata": {},
   "source": [
    "#### Question 3\n",
    "\n",
    "#### Find how many trees (n_estimators) we need before performance stops getting better."
   ]
  },
  {
   "cell_type": "code",
   "execution_count": 11,
   "id": "524eb622",
   "metadata": {},
   "outputs": [
    {
     "name": "stdout",
     "output_type": "stream",
     "text": [
      "n_estimators=10: RMSE=0.460\n",
      "n_estimators=20: RMSE=0.454\n",
      "n_estimators=30: RMSE=0.452\n",
      "n_estimators=40: RMSE=0.449\n",
      "n_estimators=50: RMSE=0.447\n",
      "n_estimators=60: RMSE=0.445\n",
      "n_estimators=70: RMSE=0.445\n",
      "n_estimators=80: RMSE=0.445\n",
      "n_estimators=90: RMSE=0.445\n",
      "n_estimators=100: RMSE=0.445\n",
      "n_estimators=110: RMSE=0.444\n",
      "n_estimators=120: RMSE=0.444\n",
      "n_estimators=130: RMSE=0.444\n",
      "n_estimators=140: RMSE=0.443\n",
      "n_estimators=150: RMSE=0.443\n",
      "n_estimators=160: RMSE=0.443\n",
      "n_estimators=170: RMSE=0.443\n",
      "n_estimators=180: RMSE=0.442\n",
      "n_estimators=190: RMSE=0.442\n",
      "n_estimators=200: RMSE=0.442\n"
     ]
    }
   ],
   "source": [
    "#Now let's experiment with the n_estimators parameter\n",
    "\n",
    "# -Try different values of this parameter from 10 to 200 with step 10.\n",
    "# - Set random_state to 1.\n",
    "# - Evaluate the model on the validation dataset.\n",
    "\n",
    "\n",
    "scores = []\n",
    "\n",
    "for n in range(10, 201, 10):  # from 10 to 200, step = 10\n",
    "    rf = RandomForestRegressor(\n",
    "        n_estimators=n,\n",
    "        random_state=1,\n",
    "        n_jobs=-1\n",
    "    )\n",
    "    rf.fit(X_train, y_train)\n",
    "\n",
    "    y_pred = rf.predict(X_val)\n",
    "    rmse = np.sqrt(mean_squared_error(y_val, y_pred))\n",
    "    scores.append((n, rmse))\n",
    "\n",
    "# Display the results\n",
    "for n, s in scores:\n",
    "    print(f\"n_estimators={n}: RMSE={s:.3f}\")"
   ]
  },
  {
   "cell_type": "code",
   "execution_count": 12,
   "id": "2ac4c08f",
   "metadata": {},
   "outputs": [
    {
     "data": {
      "image/png": "[encoded data removed]",
      "text/plain": [
       "<Figure size 640x480 with 1 Axes>"
      ]
     },
     "metadata": {},
     "output_type": "display_data"
    }
   ],
   "source": [
    "x = [n for n, _ in scores]\n",
    "y = [s for _, s in scores]\n",
    "\n",
    "plt.plot(x, y, marker='o')\n",
    "plt.xlabel('Number of Trees (n_estimators)')\n",
    "plt.ylabel('RMSE (validation)')\n",
    "plt.title('Random Forest Performance vs n_estimators')\n",
    "plt.show()"
   ]
  },
  {
   "cell_type": "markdown",
   "id": "4a02a072",
   "metadata": {},
   "source": [
    "#### Question 4 .What's the best max_depth, using the mean RMSE?"
   ]
  },
  {
   "cell_type": "code",
   "execution_count": 13,
   "id": "18c2c346",
   "metadata": {},
   "outputs": [
    {
     "name": "stdout",
     "output_type": "stream",
     "text": [
      "max_depth=10: mean RMSE=0.442\n",
      "max_depth=15: mean RMSE=0.445\n",
      "max_depth=20: mean RMSE=0.446\n",
      "max_depth=25: mean RMSE=0.446\n"
     ]
    }
   ],
   "source": [
    "# Try different values of max_depth: [10, 15, 20, 25]\n",
    "# For each of these values,\n",
    "    #try different values of n_estimators from 10 till 200 (with step 10)\n",
    "    #calculate the mean RMSE\n",
    "# Fix the random seed: random_state=1\n",
    "\n",
    "max_depth_values = [10, 15, 20, 25]\n",
    "results = {}\n",
    "\n",
    "for depth in max_depth_values:\n",
    "    rmses = []\n",
    "    for n in range(10, 201, 10):  # 10, 20, 30, ..., 200\n",
    "        rf = RandomForestRegressor(\n",
    "            n_estimators=n,\n",
    "            max_depth=depth,\n",
    "            random_state=1,\n",
    "            n_jobs=-1\n",
    "        )\n",
    "        rf.fit(X_train, y_train)\n",
    "\n",
    "        y_pred = rf.predict(X_val)\n",
    "        rmse = np.sqrt(mean_squared_error(y_val, y_pred))\n",
    "        rmses.append(rmse)\n",
    "    \n",
    "    mean_rmse = np.mean(rmses)\n",
    "    results[depth] = mean_rmse\n",
    "    print(f\"max_depth={depth}: mean RMSE={mean_rmse:.3f}\")"
   ]
  },
  {
   "cell_type": "code",
   "execution_count": 14,
   "id": "37d69acc",
   "metadata": {},
   "outputs": [
    {
     "data": {
      "image/png": "[encoded data removed]",
      "text/plain": [
       "<Figure size 640x480 with 1 Axes>"
      ]
     },
     "metadata": {},
     "output_type": "display_data"
    }
   ],
   "source": [
    "plt.plot(results.keys(), results.values(), marker='o')\n",
    "plt.xlabel('max_depth')\n",
    "plt.ylabel('Mean RMSE (validation)')\n",
    "plt.title('Random Forest Mean RMSE vs max_depth')\n",
    "plt.show()"
   ]
  },
  {
   "cell_type": "markdown",
   "id": "faf303fa",
   "metadata": {},
   "source": [
    "#### Question 5 — Finding the Most Important Feature"
   ]
  },
  {
   "cell_type": "code",
   "execution_count": 15,
   "id": "90c4b4b2",
   "metadata": {},
   "outputs": [
    {
     "name": "stdout",
     "output_type": "stream",
     "text": [
      "                feature  importance\n",
      "13       vehicle_weight    0.959150\n",
      "6            horsepower    0.015998\n",
      "0          acceleration    0.011480\n",
      "3   engine_displacement    0.003273\n",
      "7            model_year    0.003212\n",
      "8         num_cylinders    0.002343\n",
      "9             num_doors    0.001635\n",
      "12           origin=USA    0.000540\n",
      "11        origin=Europe    0.000519\n",
      "10          origin=Asia    0.000462\n"
     ]
    }
   ],
   "source": [
    "### Train a Random Forest model and check which features the model relies on most.\n",
    "\n",
    "# Train the model\n",
    "rf = RandomForestRegressor(\n",
    "    n_estimators=10,\n",
    "    max_depth=20,\n",
    "    random_state=1,\n",
    "    n_jobs=-1\n",
    ")\n",
    "rf.fit(X_train, y_train)\n",
    "\n",
    "# Extract feature importance\n",
    "feature_names = dv.get_feature_names_out()\n",
    "importances = rf.feature_importances_\n",
    "\n",
    "# Combine into a dataframe\n",
    "df_importance = pd.DataFrame({\n",
    "    'feature': feature_names,\n",
    "    'importance': importances\n",
    "}).sort_values(by='importance', ascending=False)\n",
    "\n",
    "print(df_importance.head(10))"
   ]
  },
  {
   "cell_type": "code",
   "execution_count": null,
   "id": "9d2fd86f",
   "metadata": {},
   "outputs": [],
   "source": []
  }
 ],
 "metadata": {
  "kernelspec": {
   "display_name": "venv (3.13.3)",
   "language": "python",
   "name": "python3"
  },
  "language_info": {
   "codemirror_mode": {
    "name": "ipython",
    "version": 3
   },
   "file_extension": ".py",
   "mimetype": "text/x-python",
   "name": "python",
   "nbconvert_exporter": "python",
   "pygments_lexer": "ipython3",
   "version": "3.13.3"
  }
 },
 "nbformat": 4,
 "nbformat_minor": 5
}
